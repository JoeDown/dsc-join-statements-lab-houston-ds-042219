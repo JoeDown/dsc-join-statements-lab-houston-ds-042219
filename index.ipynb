{
 "cells": [
  {
   "cell_type": "markdown",
   "metadata": {},
   "source": [
    "# Join Statements - Lab\n",
    "\n",
    "## Introduction\n",
    "\n",
    "In this lab, you'll practice your knowledge of join statements, using various types of joins and various methods for specifying the links between them.\n",
    "\n",
    "## Objectives\n",
    "\n",
    "You will be able to:\n",
    "- Write queries that make use of various types of Joins\n",
    "- Join tables using foreign keys"
   ]
  },
  {
   "cell_type": "markdown",
   "metadata": {},
   "source": [
    "## CRM Schema\n",
    "\n",
    "In almost all cases, rather then just working with a single table you will typically need data from multiple tables. \n",
    "Doing this requires the use of **joins ** using shared columns from the two tables. \n",
    "\n",
    "In this lab, you'll use the same Customer Relationship Management (CRM) database that you saw from the previous lesson.\n",
    "<img src='images/Database-Schema.png' width=\"600\">"
   ]
  },
  {
   "cell_type": "markdown",
   "metadata": {},
   "source": [
    "## Connecting to the Database\n",
    "Import the necessary packages and connect to the database **data.sqlite**."
   ]
  },
  {
   "cell_type": "code",
   "execution_count": 7,
   "metadata": {},
   "outputs": [],
   "source": [
    "import sqlite3\n",
    "import pandas as pd"
   ]
  },
  {
   "cell_type": "code",
   "execution_count": 8,
   "metadata": {},
   "outputs": [],
   "source": [
    "conn = sqlite3.connect('data.sqlite', detect_types=sqlite3.PARSE_COLNAMES)\n",
    "c = conn.cursor()\n",
    "\n"
   ]
  },
  {
   "cell_type": "markdown",
   "metadata": {},
   "source": [
    "## Display the names of all the employees in Boston.\n",
    "Hint: join the employees and customers tables."
   ]
  },
  {
   "cell_type": "code",
   "execution_count": 9,
   "metadata": {},
   "outputs": [
    {
     "data": {
      "text/plain": [
       "[('Diane', 'Murphy'),\n",
       " ('Mary', 'Patterson'),\n",
       " ('Jeff', 'Firrelli'),\n",
       " ('William', 'Patterson'),\n",
       " ('Gerard', 'Bondur'),\n",
       " ('Anthony', 'Bow'),\n",
       " ('Leslie', 'Jennings'),\n",
       " ('Leslie', 'Thompson'),\n",
       " ('Julie', 'Firrelli'),\n",
       " ('Steve', 'Patterson'),\n",
       " ('Foon Yue', 'Tseng'),\n",
       " ('George', 'Vanauf'),\n",
       " ('Loui', 'Bondur'),\n",
       " ('Gerard', 'Hernandez'),\n",
       " ('Pamela', 'Castillo'),\n",
       " ('Larry', 'Bott'),\n",
       " ('Barry', 'Jones'),\n",
       " ('Andy', 'Fixter'),\n",
       " ('Peter', 'Marsh'),\n",
       " ('Tom', 'King'),\n",
       " ('Mami', 'Nishi'),\n",
       " ('Yoshimi', 'Kato'),\n",
       " ('Martin', 'Gerard')]"
      ]
     },
     "execution_count": 9,
     "metadata": {},
     "output_type": "execute_result"
    }
   ],
   "source": [
    "c.execute('''select firstName, lastName from employees''').fetchall()"
   ]
  },
  {
   "cell_type": "markdown",
   "metadata": {},
   "source": [
    "## Do any offices have no employees?\n",
    "Hint: Combine the employees and offices tables and use a group by."
   ]
  },
  {
   "cell_type": "code",
   "execution_count": 10,
   "metadata": {},
   "outputs": [
    {
     "data": {
      "text/plain": [
       "[('1', 42), ('2', 14), ('3', 14), ('4', 35), ('5', 14), ('6', 28), ('7', 14)]"
      ]
     },
     "execution_count": 10,
     "metadata": {},
     "output_type": "execute_result"
    }
   ],
   "source": [
    "c.execute('''select employees.officeCode, count(employees.officeCode) from employees join offices on offices.officeCode group by employees.officeCode''').fetchall()"
   ]
  },
  {
   "cell_type": "code",
   "execution_count": 11,
   "metadata": {},
   "outputs": [
    {
     "ename": "NameError",
     "evalue": "name 'cur' is not defined",
     "output_type": "error",
     "traceback": [
      "\u001b[0;31m\u001b[0m",
      "\u001b[0;31mNameError\u001b[0mTraceback (most recent call last)",
      "\u001b[0;32m<ipython-input-11-a8d911eaed7f>\u001b[0m in \u001b[0;36m<module>\u001b[0;34m()\u001b[0m\n\u001b[0;32m----> 1\u001b[0;31m cur.execute(\"\"\"select * from orderdetails\n\u001b[0m\u001b[1;32m      2\u001b[0m                         \u001b[0mjoin\u001b[0m \u001b[0mproducts\u001b[0m\u001b[0;34m\u001b[0m\u001b[0m\n\u001b[1;32m      3\u001b[0m                         \u001b[0mon\u001b[0m \u001b[0morderdetails\u001b[0m\u001b[0;34m.\u001b[0m\u001b[0mproductCode\u001b[0m \u001b[0;34m=\u001b[0m \u001b[0mproducts\u001b[0m\u001b[0;34m.\u001b[0m\u001b[0mproductCode\u001b[0m\u001b[0;34m\u001b[0m\u001b[0m\n\u001b[1;32m      4\u001b[0m                         \u001b[0mlimit\u001b[0m \u001b[0;36m10\u001b[0m\u001b[0;34m;\u001b[0m\u001b[0;34m\u001b[0m\u001b[0m\n\u001b[1;32m      5\u001b[0m                        \"\"\")\n",
      "\u001b[0;31mNameError\u001b[0m: name 'cur' is not defined"
     ]
    }
   ],
   "source": [
    "cur.execute(\"\"\"select * from orderdetails\n",
    "                        join products\n",
    "                        on orderdetails.productCode = products.productCode\n",
    "                        limit 10;\n",
    "                       \"\"\")"
   ]
  },
  {
   "cell_type": "markdown",
   "metadata": {},
   "source": [
    "## Write 3 Questions of your own and answer them"
   ]
  },
  {
   "cell_type": "code",
   "execution_count": null,
   "metadata": {},
   "outputs": [],
   "source": [
    "#in what cities are the most customers canceling their orders...top 5"
   ]
  },
  {
   "cell_type": "code",
   "execution_count": null,
   "metadata": {},
   "outputs": [],
   "source": [
    "c.execute('''select status, city, count(city) \n",
    "            from orders \n",
    "            join customers \n",
    "            where status=\"Cancelled\" \n",
    "            group by city \n",
    "            order by count(city) \n",
    "            desc limit 5''').fetchall()\n",
    "\n"
   ]
  },
  {
   "cell_type": "code",
   "execution_count": null,
   "metadata": {},
   "outputs": [],
   "source": [
    "# Bottom five?"
   ]
  },
  {
   "cell_type": "code",
   "execution_count": null,
   "metadata": {},
   "outputs": [],
   "source": [
    "c.execute('''select status, city, count(city) as \"count\" \n",
    "            from orders \n",
    "            join customers \n",
    "            where status=\"Cancelled\" \n",
    "            group by city \n",
    "            order by count(city) \n",
    "             limit 50''').fetchall()"
   ]
  },
  {
   "cell_type": "code",
   "execution_count": null,
   "metadata": {},
   "outputs": [],
   "source": [
    "#Average number of cancelled orders per city?\n",
    "c.execute('''select count(city) as count, city as city \n",
    "            from orders \n",
    "            join customers \n",
    "            where status=\"Cancelled\" \n",
    "            group by city \n",
    "            order by count(city) desc''').fetchall()"
   ]
  },
  {
   "cell_type": "code",
   "execution_count": null,
   "metadata": {},
   "outputs": [],
   "source": [
    "c.execute('''select avg(a.count) from (select count(city) as count, city as city \n",
    "            from orders \n",
    "            join customers \n",
    "            where status=\"Cancelled\" \n",
    "            group by city \n",
    "            order by count(city)) as a''').fetchall()"
   ]
  },
  {
   "cell_type": "code",
   "execution_count": null,
   "metadata": {},
   "outputs": [],
   "source": [
    "SELECT \n",
    "  AVG(`count`)\n",
    "FROM\n",
    "  (SELECT \n",
    "    COUNT(s_id) AS `count`\n",
    "  FROM\n",
    "    instructor,\n",
    "    advisor \n",
    "  WHERE instructor.ID = advisor.i_id \n",
    "    AND dept_name = 'CIS' \n",
    "  GROUP BY dept_name) nested ;"
   ]
  },
  {
   "cell_type": "code",
   "execution_count": null,
   "metadata": {},
   "outputs": [],
   "source": [
    "# Your code here"
   ]
  },
  {
   "cell_type": "markdown",
   "metadata": {},
   "source": [
    "## Level Up: Display the names of each product each employee has sold"
   ]
  },
  {
   "cell_type": "code",
   "execution_count": null,
   "metadata": {
    "scrolled": true
   },
   "outputs": [],
   "source": [
    "c.execute('''select products.productName from\n",
    "                products join orderdetails on orderdetails.productCode\n",
    "                join orders on orders.orderNumber\n",
    "                join customers on customers.customerNumber\n",
    "                join employees\n",
    "                where customers.salesRepEmployeeNumber=employees.employeeNumber''').fetchall()"
   ]
  },
  {
   "cell_type": "code",
   "execution_count": null,
   "metadata": {},
   "outputs": [],
   "source": [
    "# c.execute('''select products.productName from\n",
    "#                 products full outer join orderdetails\n",
    "#                 full outer join orders\n",
    "#                 full outer join customers\n",
    "#                 full outer join employees\n",
    "#                 where customerbs.salesRepEmployeeNumber=employees.employeeNumber''').fetchall()"
   ]
  },
  {
   "cell_type": "code",
   "execution_count": null,
   "metadata": {},
   "outputs": [],
   "source": [
    "# c.execute('''select products.productName from\n",
    "#                 products right join orderdetails on orderdetails.productCode\n",
    "#                 right join orders on orders.orderNumber\n",
    "#                 right join customers on customers.customerNumber\n",
    "#                 right join employees\n",
    "#                 where customers.salesRepEmployeeNumber=employees.employeeNumber''').fetchall()"
   ]
  },
  {
   "cell_type": "code",
   "execution_count": null,
   "metadata": {},
   "outputs": [],
   "source": [
    "# c.execute('''select employees.firstName, customers.addressLine1 from \n",
    "#              employees join customers join orders join orderdetails''').fetchall()"
   ]
  },
  {
   "cell_type": "code",
   "execution_count": null,
   "metadata": {},
   "outputs": [],
   "source": [
    "c.execute('''SELECT COALESCE(MAX(orderNumber)+1, 0) FROM orders''').fetchall()"
   ]
  },
  {
   "cell_type": "code",
   "execution_count": 12,
   "metadata": {},
   "outputs": [],
   "source": [
    "# c.execute('''select customers.addressLine1, orders.orderNumber \n",
    "#              from customers join orders\n",
    "#              join orderdetails''').fetchall()\n",
    "\n"
   ]
  },
  {
   "cell_type": "code",
   "execution_count": 13,
   "metadata": {},
   "outputs": [],
   "source": [
    "# c.execute('''SELECT employees.employeeNumber, productName.products''')"
   ]
  },
  {
   "cell_type": "code",
   "execution_count": 53,
   "metadata": {},
   "outputs": [
    {
     "name": "stdout",
     "output_type": "stream",
     "text": [
      "299600\n"
     ]
    },
    {
     "data": {
      "text/html": [
       "<div>\n",
       "<style scoped>\n",
       "    .dataframe tbody tr th:only-of-type {\n",
       "        vertical-align: middle;\n",
       "    }\n",
       "\n",
       "    .dataframe tbody tr th {\n",
       "        vertical-align: top;\n",
       "    }\n",
       "\n",
       "    .dataframe thead th {\n",
       "        text-align: right;\n",
       "    }\n",
       "</style>\n",
       "<table border=\"1\" class=\"dataframe\">\n",
       "  <thead>\n",
       "    <tr style=\"text-align: right;\">\n",
       "      <th></th>\n",
       "      <th>0</th>\n",
       "      <th>1</th>\n",
       "      <th>2</th>\n",
       "      <th>3</th>\n",
       "    </tr>\n",
       "  </thead>\n",
       "  <tbody>\n",
       "    <tr>\n",
       "      <th>0</th>\n",
       "      <td>Leslie</td>\n",
       "      <td>1165</td>\n",
       "      <td>136.00</td>\n",
       "      <td>1917 Grand Touring Sedan</td>\n",
       "    </tr>\n",
       "    <tr>\n",
       "      <th>1</th>\n",
       "      <td>Leslie</td>\n",
       "      <td>1165</td>\n",
       "      <td>55.09</td>\n",
       "      <td>1911 Ford Town Car</td>\n",
       "    </tr>\n",
       "    <tr>\n",
       "      <th>2</th>\n",
       "      <td>Leslie</td>\n",
       "      <td>1165</td>\n",
       "      <td>75.46</td>\n",
       "      <td>1932 Alfa Romeo 8C2300 Spider Sport</td>\n",
       "    </tr>\n",
       "    <tr>\n",
       "      <th>3</th>\n",
       "      <td>Leslie</td>\n",
       "      <td>1165</td>\n",
       "      <td>35.29</td>\n",
       "      <td>1936 Mercedes Benz 500k Roadster</td>\n",
       "    </tr>\n",
       "    <tr>\n",
       "      <th>4</th>\n",
       "      <td>Leslie</td>\n",
       "      <td>1165</td>\n",
       "      <td>136.00</td>\n",
       "      <td>1917 Grand Touring Sedan</td>\n",
       "    </tr>\n",
       "  </tbody>\n",
       "</table>\n",
       "</div>"
      ],
      "text/plain": [
       "        0     1       2                                    3\n",
       "0  Leslie  1165  136.00             1917 Grand Touring Sedan\n",
       "1  Leslie  1165   55.09                   1911 Ford Town Car\n",
       "2  Leslie  1165   75.46  1932 Alfa Romeo 8C2300 Spider Sport\n",
       "3  Leslie  1165   35.29     1936 Mercedes Benz 500k Roadster\n",
       "4  Leslie  1165  136.00             1917 Grand Touring Sedan"
      ]
     },
     "execution_count": 53,
     "metadata": {},
     "output_type": "execute_result"
    }
   ],
   "source": [
    "df = pd.DataFrame(c.execute('''select e.firstName, e.employeeNumber, orderdetails.priceEach, products.productName  \n",
    "            from employees e join customers c \n",
    "            on e.employeeNumber = c.salesRepEmployeeNumber\n",
    "            join orders o\n",
    "            join orderdetails using(orderNumber)\n",
    "            join products using(productCode)''').fetchall())\n",
    "print(len(df))\n",
    "df.head()"
   ]
  },
  {
   "cell_type": "code",
   "execution_count": 54,
   "metadata": {
    "scrolled": false
   },
   "outputs": [],
   "source": [
    "# c.execute('''select e.firstName, e.employeeNumber, orderdetails.priceEach, products.productName  \n",
    "#             from employees e join customers c \n",
    "#             on e.employeeNumber = c.salesRepEmployeeNumber\n",
    "#             join orders o\n",
    "#             join orderdetails using(orderNumber)\n",
    "#             join products using(productCode)''').fetchall()\n",
    "\n"
   ]
  },
  {
   "cell_type": "code",
   "execution_count": 57,
   "metadata": {},
   "outputs": [
    {
     "data": {
      "text/plain": [
       "RangeIndex(start=0, stop=4, step=1)"
      ]
     },
     "execution_count": 57,
     "metadata": {},
     "output_type": "execute_result"
    }
   ],
   "source": [
    "df.columns"
   ]
  },
  {
   "cell_type": "code",
   "execution_count": 63,
   "metadata": {
    "scrolled": true
   },
   "outputs": [
    {
     "data": {
      "text/html": [
       "<div>\n",
       "<style scoped>\n",
       "    .dataframe tbody tr th:only-of-type {\n",
       "        vertical-align: middle;\n",
       "    }\n",
       "\n",
       "    .dataframe tbody tr th {\n",
       "        vertical-align: top;\n",
       "    }\n",
       "\n",
       "    .dataframe thead th {\n",
       "        text-align: right;\n",
       "    }\n",
       "</style>\n",
       "<table border=\"1\" class=\"dataframe\">\n",
       "  <thead>\n",
       "    <tr style=\"text-align: right;\">\n",
       "      <th></th>\n",
       "      <th>0</th>\n",
       "      <th>1</th>\n",
       "      <th>2</th>\n",
       "      <th>3</th>\n",
       "    </tr>\n",
       "  </thead>\n",
       "  <tbody>\n",
       "    <tr>\n",
       "      <th>0</th>\n",
       "      <td>Leslie</td>\n",
       "      <td>1165</td>\n",
       "      <td>136.00</td>\n",
       "      <td>1917 Grand Touring Sedan</td>\n",
       "    </tr>\n",
       "    <tr>\n",
       "      <th>1</th>\n",
       "      <td>Leslie</td>\n",
       "      <td>1165</td>\n",
       "      <td>55.09</td>\n",
       "      <td>1911 Ford Town Car</td>\n",
       "    </tr>\n",
       "    <tr>\n",
       "      <th>2</th>\n",
       "      <td>Leslie</td>\n",
       "      <td>1165</td>\n",
       "      <td>75.46</td>\n",
       "      <td>1932 Alfa Romeo 8C2300 Spider Sport</td>\n",
       "    </tr>\n",
       "    <tr>\n",
       "      <th>3</th>\n",
       "      <td>Leslie</td>\n",
       "      <td>1165</td>\n",
       "      <td>35.29</td>\n",
       "      <td>1936 Mercedes Benz 500k Roadster</td>\n",
       "    </tr>\n",
       "    <tr>\n",
       "      <th>4</th>\n",
       "      <td>Leslie</td>\n",
       "      <td>1165</td>\n",
       "      <td>136.00</td>\n",
       "      <td>1917 Grand Touring Sedan</td>\n",
       "    </tr>\n",
       "  </tbody>\n",
       "</table>\n",
       "</div>"
      ],
      "text/plain": [
       "        0     1       2                                    3\n",
       "0  Leslie  1165  136.00             1917 Grand Touring Sedan\n",
       "1  Leslie  1165   55.09                   1911 Ford Town Car\n",
       "2  Leslie  1165   75.46  1932 Alfa Romeo 8C2300 Spider Sport\n",
       "3  Leslie  1165   35.29     1936 Mercedes Benz 500k Roadster\n",
       "4  Leslie  1165  136.00             1917 Grand Touring Sedan"
      ]
     },
     "execution_count": 63,
     "metadata": {},
     "output_type": "execute_result"
    }
   ],
   "source": [
    "df.head()"
   ]
  },
  {
   "cell_type": "code",
   "execution_count": 72,
   "metadata": {},
   "outputs": [
    {
     "data": {
      "text/plain": [
       "1\n",
       "1165    [1917 Grand Touring Sedan, 1911 Ford Town Car,...\n",
       "1166    [1917 Grand Touring Sedan, 1911 Ford Town Car,...\n",
       "1188    [1917 Grand Touring Sedan, 1911 Ford Town Car,...\n",
       "1216    [1917 Grand Touring Sedan, 1911 Ford Town Car,...\n",
       "1286    [1917 Grand Touring Sedan, 1911 Ford Town Car,...\n",
       "1323    [1917 Grand Touring Sedan, 1911 Ford Town Car,...\n",
       "1337    [1917 Grand Touring Sedan, 1911 Ford Town Car,...\n",
       "1370    [1917 Grand Touring Sedan, 1911 Ford Town Car,...\n",
       "1401    [1917 Grand Touring Sedan, 1911 Ford Town Car,...\n",
       "1501    [1917 Grand Touring Sedan, 1911 Ford Town Car,...\n",
       "1504    [1917 Grand Touring Sedan, 1911 Ford Town Car,...\n",
       "1611    [1917 Grand Touring Sedan, 1911 Ford Town Car,...\n",
       "1612    [1917 Grand Touring Sedan, 1911 Ford Town Car,...\n",
       "1621    [1917 Grand Touring Sedan, 1911 Ford Town Car,...\n",
       "1702    [1917 Grand Touring Sedan, 1911 Ford Town Car,...\n",
       "Name: 3, dtype: object"
      ]
     },
     "execution_count": 72,
     "metadata": {},
     "output_type": "execute_result"
    }
   ],
   "source": [
    "df.groupby(1)[3].unique()"
   ]
  },
  {
   "cell_type": "code",
   "execution_count": 62,
   "metadata": {
    "scrolled": true
   },
   "outputs": [
    {
     "data": {
      "text/html": [
       "<div>\n",
       "<style scoped>\n",
       "    .dataframe tbody tr th:only-of-type {\n",
       "        vertical-align: middle;\n",
       "    }\n",
       "\n",
       "    .dataframe tbody tr th {\n",
       "        vertical-align: top;\n",
       "    }\n",
       "\n",
       "    .dataframe thead th {\n",
       "        text-align: right;\n",
       "    }\n",
       "</style>\n",
       "<table border=\"1\" class=\"dataframe\">\n",
       "  <thead>\n",
       "    <tr style=\"text-align: right;\">\n",
       "      <th></th>\n",
       "      <th></th>\n",
       "      <th>2</th>\n",
       "      <th>3</th>\n",
       "    </tr>\n",
       "    <tr>\n",
       "      <th>0</th>\n",
       "      <th>1</th>\n",
       "      <th></th>\n",
       "      <th></th>\n",
       "    </tr>\n",
       "  </thead>\n",
       "  <tbody>\n",
       "    <tr>\n",
       "      <th>Andy</th>\n",
       "      <th>1611</th>\n",
       "      <td>14980</td>\n",
       "      <td>14980</td>\n",
       "    </tr>\n",
       "    <tr>\n",
       "      <th>Barry</th>\n",
       "      <th>1504</th>\n",
       "      <td>26964</td>\n",
       "      <td>26964</td>\n",
       "    </tr>\n",
       "    <tr>\n",
       "      <th>Foon Yue</th>\n",
       "      <th>1286</th>\n",
       "      <td>20972</td>\n",
       "      <td>20972</td>\n",
       "    </tr>\n",
       "    <tr>\n",
       "      <th>George</th>\n",
       "      <th>1323</th>\n",
       "      <td>23968</td>\n",
       "      <td>23968</td>\n",
       "    </tr>\n",
       "    <tr>\n",
       "      <th>Gerard</th>\n",
       "      <th>1370</th>\n",
       "      <td>20972</td>\n",
       "      <td>20972</td>\n",
       "    </tr>\n",
       "    <tr>\n",
       "      <th>Julie</th>\n",
       "      <th>1188</th>\n",
       "      <td>17976</td>\n",
       "      <td>17976</td>\n",
       "    </tr>\n",
       "    <tr>\n",
       "      <th>Larry</th>\n",
       "      <th>1501</th>\n",
       "      <td>23968</td>\n",
       "      <td>23968</td>\n",
       "    </tr>\n",
       "    <tr>\n",
       "      <th rowspan=\"2\" valign=\"top\">Leslie</th>\n",
       "      <th>1165</th>\n",
       "      <td>17976</td>\n",
       "      <td>17976</td>\n",
       "    </tr>\n",
       "    <tr>\n",
       "      <th>1166</th>\n",
       "      <td>17976</td>\n",
       "      <td>17976</td>\n",
       "    </tr>\n",
       "    <tr>\n",
       "      <th>Loui</th>\n",
       "      <th>1337</th>\n",
       "      <td>17976</td>\n",
       "      <td>17976</td>\n",
       "    </tr>\n",
       "    <tr>\n",
       "      <th>Mami</th>\n",
       "      <th>1621</th>\n",
       "      <td>14980</td>\n",
       "      <td>14980</td>\n",
       "    </tr>\n",
       "    <tr>\n",
       "      <th>Martin</th>\n",
       "      <th>1702</th>\n",
       "      <td>17976</td>\n",
       "      <td>17976</td>\n",
       "    </tr>\n",
       "    <tr>\n",
       "      <th>Pamela</th>\n",
       "      <th>1401</th>\n",
       "      <td>29960</td>\n",
       "      <td>29960</td>\n",
       "    </tr>\n",
       "    <tr>\n",
       "      <th>Peter</th>\n",
       "      <th>1612</th>\n",
       "      <td>14980</td>\n",
       "      <td>14980</td>\n",
       "    </tr>\n",
       "    <tr>\n",
       "      <th>Steve</th>\n",
       "      <th>1216</th>\n",
       "      <td>17976</td>\n",
       "      <td>17976</td>\n",
       "    </tr>\n",
       "  </tbody>\n",
       "</table>\n",
       "</div>"
      ],
      "text/plain": [
       "                   2      3\n",
       "0        1                 \n",
       "Andy     1611  14980  14980\n",
       "Barry    1504  26964  26964\n",
       "Foon Yue 1286  20972  20972\n",
       "George   1323  23968  23968\n",
       "Gerard   1370  20972  20972\n",
       "Julie    1188  17976  17976\n",
       "Larry    1501  23968  23968\n",
       "Leslie   1165  17976  17976\n",
       "         1166  17976  17976\n",
       "Loui     1337  17976  17976\n",
       "Mami     1621  14980  14980\n",
       "Martin   1702  17976  17976\n",
       "Pamela   1401  29960  29960\n",
       "Peter    1612  14980  14980\n",
       "Steve    1216  17976  17976"
      ]
     },
     "execution_count": 62,
     "metadata": {},
     "output_type": "execute_result"
    }
   ],
   "source": [
    "df.groupby([0,1]).count()"
   ]
  },
  {
   "cell_type": "markdown",
   "metadata": {},
   "source": [
    "## Summary"
   ]
  },
  {
   "cell_type": "markdown",
   "metadata": {},
   "source": [
    "Congrats! You now know how to use join statements, along with leveraging your foreign keys knowledge!"
   ]
  }
 ],
 "metadata": {
  "kernelspec": {
   "display_name": "Python 3",
   "language": "python",
   "name": "python3"
  },
  "language_info": {
   "codemirror_mode": {
    "name": "ipython",
    "version": 3
   },
   "file_extension": ".py",
   "mimetype": "text/x-python",
   "name": "python",
   "nbconvert_exporter": "python",
   "pygments_lexer": "ipython3",
   "version": "3.6.6"
  }
 },
 "nbformat": 4,
 "nbformat_minor": 2
}
