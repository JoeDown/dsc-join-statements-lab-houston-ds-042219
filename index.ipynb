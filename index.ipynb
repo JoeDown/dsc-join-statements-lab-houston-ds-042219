{
 "cells": [
  {
   "cell_type": "markdown",
   "metadata": {},
   "source": [
    "# Join Statements - Lab\n",
    "\n",
    "## Introduction\n",
    "\n",
    "In this lab, you'll practice your knowledge of join statements, using various types of joins and various methods for specifying the links between them.\n",
    "\n",
    "## Objectives\n",
    "\n",
    "You will be able to:\n",
    "- Write queries that make use of various types of Joins\n",
    "- Join tables using foreign keys"
   ]
  },
  {
   "cell_type": "markdown",
   "metadata": {},
   "source": [
    "## CRM Schema\n",
    "\n",
    "In almost all cases, rather then just working with a single table you will typically need data from multiple tables. \n",
    "Doing this requires the use of **joins ** using shared columns from the two tables. \n",
    "\n",
    "In this lab, you'll use the same Customer Relationship Management (CRM) database that you saw from the previous lesson.\n",
    "<img src='images/Database-Schema.png' width=\"600\">"
   ]
  },
  {
   "cell_type": "markdown",
   "metadata": {},
   "source": [
    "## Connecting to the Database\n",
    "Import the necessary packages and connect to the database **data.sqlite**."
   ]
  },
  {
   "cell_type": "code",
   "execution_count": 1,
   "metadata": {},
   "outputs": [],
   "source": [
    "import sqlite3\n",
    "import pandas as pd"
   ]
  },
  {
   "cell_type": "code",
   "execution_count": 2,
   "metadata": {},
   "outputs": [],
   "source": [
    "conn = sqlite3.connect('data.sqlite', detect_types=sqlite3.PARSE_COLNAMES)\n",
    "c = conn.cursor()\n",
    "\n"
   ]
  },
  {
   "cell_type": "markdown",
   "metadata": {},
   "source": [
    "## Display the names of all the employees in Boston.\n",
    "Hint: join the employees and customers tables."
   ]
  },
  {
   "cell_type": "code",
   "execution_count": 3,
   "metadata": {},
   "outputs": [
    {
     "data": {
      "text/plain": [
       "[('Diane', 'Murphy'),\n",
       " ('Mary', 'Patterson'),\n",
       " ('Jeff', 'Firrelli'),\n",
       " ('William', 'Patterson'),\n",
       " ('Gerard', 'Bondur'),\n",
       " ('Anthony', 'Bow'),\n",
       " ('Leslie', 'Jennings'),\n",
       " ('Leslie', 'Thompson'),\n",
       " ('Julie', 'Firrelli'),\n",
       " ('Steve', 'Patterson'),\n",
       " ('Foon Yue', 'Tseng'),\n",
       " ('George', 'Vanauf'),\n",
       " ('Loui', 'Bondur'),\n",
       " ('Gerard', 'Hernandez'),\n",
       " ('Pamela', 'Castillo'),\n",
       " ('Larry', 'Bott'),\n",
       " ('Barry', 'Jones'),\n",
       " ('Andy', 'Fixter'),\n",
       " ('Peter', 'Marsh'),\n",
       " ('Tom', 'King'),\n",
       " ('Mami', 'Nishi'),\n",
       " ('Yoshimi', 'Kato'),\n",
       " ('Martin', 'Gerard')]"
      ]
     },
     "execution_count": 3,
     "metadata": {},
     "output_type": "execute_result"
    }
   ],
   "source": [
    "c.execute('''select firstName, lastName from employees''').fetchall()"
   ]
  },
  {
   "cell_type": "markdown",
   "metadata": {},
   "source": [
    "## Do any offices have no employees?\n",
    "Hint: Combine the employees and offices tables and use a group by."
   ]
  },
  {
   "cell_type": "code",
   "execution_count": 4,
   "metadata": {},
   "outputs": [
    {
     "data": {
      "text/plain": [
       "[('1', 42), ('2', 14), ('3', 14), ('4', 35), ('5', 14), ('6', 28), ('7', 14)]"
      ]
     },
     "execution_count": 4,
     "metadata": {},
     "output_type": "execute_result"
    }
   ],
   "source": [
    "c.execute('''select employees.officeCode, count(employees.officeCode) from employees join offices on offices.officeCode group by employees.officeCode''').fetchall()"
   ]
  },
  {
   "cell_type": "code",
   "execution_count": 5,
   "metadata": {},
   "outputs": [
    {
     "ename": "NameError",
     "evalue": "name 'cur' is not defined",
     "output_type": "error",
     "traceback": [
      "\u001b[0;31m\u001b[0m",
      "\u001b[0;31mNameError\u001b[0mTraceback (most recent call last)",
      "\u001b[0;32m<ipython-input-5-a8d911eaed7f>\u001b[0m in \u001b[0;36m<module>\u001b[0;34m()\u001b[0m\n\u001b[0;32m----> 1\u001b[0;31m cur.execute(\"\"\"select * from orderdetails\n\u001b[0m\u001b[1;32m      2\u001b[0m                         \u001b[0mjoin\u001b[0m \u001b[0mproducts\u001b[0m\u001b[0;34m\u001b[0m\u001b[0m\n\u001b[1;32m      3\u001b[0m                         \u001b[0mon\u001b[0m \u001b[0morderdetails\u001b[0m\u001b[0;34m.\u001b[0m\u001b[0mproductCode\u001b[0m \u001b[0;34m=\u001b[0m \u001b[0mproducts\u001b[0m\u001b[0;34m.\u001b[0m\u001b[0mproductCode\u001b[0m\u001b[0;34m\u001b[0m\u001b[0m\n\u001b[1;32m      4\u001b[0m                         \u001b[0mlimit\u001b[0m \u001b[0;36m10\u001b[0m\u001b[0;34m;\u001b[0m\u001b[0;34m\u001b[0m\u001b[0m\n\u001b[1;32m      5\u001b[0m                        \"\"\")\n",
      "\u001b[0;31mNameError\u001b[0m: name 'cur' is not defined"
     ]
    }
   ],
   "source": [
    "cur.execute(\"\"\"select * from orderdetails\n",
    "                        join products\n",
    "                        on orderdetails.productCode = products.productCode\n",
    "                        limit 10;\n",
    "                       \"\"\")"
   ]
  },
  {
   "cell_type": "markdown",
   "metadata": {},
   "source": [
    "## Write 3 Questions of your own and answer them"
   ]
  },
  {
   "cell_type": "code",
   "execution_count": null,
   "metadata": {},
   "outputs": [],
   "source": [
    "#in what cities are the most customers canceling their orders...top 5"
   ]
  },
  {
   "cell_type": "code",
   "execution_count": 19,
   "metadata": {},
   "outputs": [
    {
     "data": {
      "text/plain": [
       "[('Cancelled', 'Madrid', 30),\n",
       " ('Cancelled', 'NYC', 30),\n",
       " ('Cancelled', 'Brickhaven', 18),\n",
       " ('Cancelled', 'Paris', 18),\n",
       " ('Cancelled', 'Singapore', 18)]"
      ]
     },
     "execution_count": 19,
     "metadata": {},
     "output_type": "execute_result"
    }
   ],
   "source": [
    "c.execute('''select status, city, count(city) \n",
    "            from orders \n",
    "            join customers \n",
    "            where status=\"Cancelled\" \n",
    "            group by city \n",
    "            order by count(city) \n",
    "            desc limit 5''').fetchall()\n",
    "\n"
   ]
  },
  {
   "cell_type": "code",
   "execution_count": null,
   "metadata": {},
   "outputs": [],
   "source": [
    "# Bottom five?"
   ]
  },
  {
   "cell_type": "code",
   "execution_count": 32,
   "metadata": {},
   "outputs": [
    {
     "data": {
      "text/plain": [
       "[('Cancelled', 'Aachen', 6),\n",
       " ('Cancelled', 'Allentown', 6),\n",
       " ('Cancelled', 'Amsterdam', 6),\n",
       " ('Cancelled', 'Auckland', 6),\n",
       " ('Cancelled', 'Barcelona', 6),\n",
       " ('Cancelled', 'Bergamo', 6),\n",
       " ('Cancelled', 'Bergen', 6),\n",
       " ('Cancelled', 'Berlin', 6),\n",
       " ('Cancelled', 'Bern', 6),\n",
       " ('Cancelled', 'Brandenburg', 6),\n",
       " ('Cancelled', 'Bridgewater', 6),\n",
       " ('Cancelled', 'Brisbane', 6),\n",
       " ('Cancelled', 'Bruxelles', 6),\n",
       " ('Cancelled', 'Bräcke', 6),\n",
       " ('Cancelled', 'Burbank', 6),\n",
       " ('Cancelled', 'Burlingame', 6),\n",
       " ('Cancelled', 'Central Hong Kong', 6),\n",
       " ('Cancelled', 'Charleroi', 6),\n",
       " ('Cancelled', 'Chatswood', 6),\n",
       " ('Cancelled', 'Cork', 6),\n",
       " ('Cancelled', 'Cowes', 6),\n",
       " ('Cancelled', 'Cunewalde', 6),\n",
       " ('Cancelled', 'Dublin', 6),\n",
       " ('Cancelled', 'Espoo', 6),\n",
       " ('Cancelled', 'Fribourg', 6),\n",
       " ('Cancelled', 'Genève', 6),\n",
       " ('Cancelled', 'Glen Waverly', 6),\n",
       " ('Cancelled', 'Graz', 6),\n",
       " ('Cancelled', 'Hatfield', 6),\n",
       " ('Cancelled', 'Helsinki', 6),\n",
       " ('Cancelled', 'Herzlia', 6),\n",
       " ('Cancelled', 'Kita-ku', 6),\n",
       " ('Cancelled', 'Kobenhavn', 6),\n",
       " ('Cancelled', 'Köln', 6),\n",
       " ('Cancelled', 'Las Vegas', 6),\n",
       " ('Cancelled', 'Leipzig', 6),\n",
       " ('Cancelled', 'Lille', 6),\n",
       " ('Cancelled', 'Liverpool', 6),\n",
       " ('Cancelled', 'Los Angeles', 6),\n",
       " ('Cancelled', 'Luleå', 6),\n",
       " ('Cancelled', 'Lyon', 6),\n",
       " ('Cancelled', 'Makati City', 6),\n",
       " ('Cancelled', 'Manchester', 6),\n",
       " ('Cancelled', 'Mannheim', 6),\n",
       " ('Cancelled', 'Marseille', 6),\n",
       " ('Cancelled', 'Melbourne', 6),\n",
       " ('Cancelled', 'Milan', 6),\n",
       " ('Cancelled', 'Minato-ku', 6),\n",
       " ('Cancelled', 'Montréal', 6),\n",
       " ('Cancelled', 'Munich', 6)]"
      ]
     },
     "execution_count": 32,
     "metadata": {},
     "output_type": "execute_result"
    }
   ],
   "source": [
    "c.execute('''select status, city, count(city) as \"count\" \n",
    "            from orders \n",
    "            join customers \n",
    "            where status=\"Cancelled\" \n",
    "            group by city \n",
    "            order by count(city) \n",
    "             limit 50''').fetchall()"
   ]
  },
  {
   "cell_type": "code",
   "execution_count": 43,
   "metadata": {},
   "outputs": [
    {
     "data": {
      "text/plain": [
       "[(30, 'Madrid'),\n",
       " (30, 'NYC'),\n",
       " (18, 'Brickhaven'),\n",
       " (18, 'Paris'),\n",
       " (18, 'Singapore'),\n",
       " (12, 'Auckland  '),\n",
       " (12, 'Boston'),\n",
       " (12, 'Cambridge'),\n",
       " (12, 'Frankfurt'),\n",
       " (12, 'Glendale'),\n",
       " (12, 'Lisboa'),\n",
       " (12, 'London'),\n",
       " (12, 'Nantes'),\n",
       " (12, 'New Bedford'),\n",
       " (12, 'New Haven'),\n",
       " (12, 'Philadelphia'),\n",
       " (12, 'San Francisco'),\n",
       " (6, 'Aachen'),\n",
       " (6, 'Allentown'),\n",
       " (6, 'Amsterdam'),\n",
       " (6, 'Auckland'),\n",
       " (6, 'Barcelona'),\n",
       " (6, 'Bergamo'),\n",
       " (6, 'Bergen'),\n",
       " (6, 'Berlin'),\n",
       " (6, 'Bern'),\n",
       " (6, 'Brandenburg'),\n",
       " (6, 'Bridgewater'),\n",
       " (6, 'Brisbane'),\n",
       " (6, 'Bruxelles'),\n",
       " (6, 'Bräcke'),\n",
       " (6, 'Burbank'),\n",
       " (6, 'Burlingame'),\n",
       " (6, 'Central Hong Kong'),\n",
       " (6, 'Charleroi'),\n",
       " (6, 'Chatswood'),\n",
       " (6, 'Cork'),\n",
       " (6, 'Cowes'),\n",
       " (6, 'Cunewalde'),\n",
       " (6, 'Dublin'),\n",
       " (6, 'Espoo'),\n",
       " (6, 'Fribourg'),\n",
       " (6, 'Genève'),\n",
       " (6, 'Glen Waverly'),\n",
       " (6, 'Graz'),\n",
       " (6, 'Hatfield'),\n",
       " (6, 'Helsinki'),\n",
       " (6, 'Herzlia'),\n",
       " (6, 'Kita-ku'),\n",
       " (6, 'Kobenhavn'),\n",
       " (6, 'Köln'),\n",
       " (6, 'Las Vegas'),\n",
       " (6, 'Leipzig'),\n",
       " (6, 'Lille'),\n",
       " (6, 'Liverpool'),\n",
       " (6, 'Los Angeles'),\n",
       " (6, 'Luleå'),\n",
       " (6, 'Lyon'),\n",
       " (6, 'Makati City'),\n",
       " (6, 'Manchester'),\n",
       " (6, 'Mannheim'),\n",
       " (6, 'Marseille'),\n",
       " (6, 'Melbourne'),\n",
       " (6, 'Milan'),\n",
       " (6, 'Minato-ku'),\n",
       " (6, 'Montréal'),\n",
       " (6, 'Munich'),\n",
       " (6, 'München'),\n",
       " (6, 'Münster'),\n",
       " (6, 'Nashua'),\n",
       " (6, 'Newark'),\n",
       " (6, 'North Sydney'),\n",
       " (6, 'Oslo'),\n",
       " (6, 'Oulu'),\n",
       " (6, 'Pasadena'),\n",
       " (6, 'Reggio Emilia'),\n",
       " (6, 'Reims'),\n",
       " (6, 'Saint Petersburg'),\n",
       " (6, 'Salzburg'),\n",
       " (6, 'San Diego'),\n",
       " (6, 'San Jose'),\n",
       " (6, 'San Rafael'),\n",
       " (6, 'Sevilla'),\n",
       " (6, 'South Brisbane'),\n",
       " (6, 'Stavern'),\n",
       " (6, 'Strasbourg'),\n",
       " (6, 'Stuttgart'),\n",
       " (6, 'Torino'),\n",
       " (6, 'Toulouse'),\n",
       " (6, 'Tsawassen'),\n",
       " (6, 'Vancouver'),\n",
       " (6, 'Versailles'),\n",
       " (6, 'Warszawa'),\n",
       " (6, 'Wellington'),\n",
       " (6, 'White Plains'),\n",
       " (6, 'Århus')]"
      ]
     },
     "execution_count": 43,
     "metadata": {},
     "output_type": "execute_result"
    }
   ],
   "source": [
    "#Average number of cancelled orders per city?\n",
    "c.execute('''select count(city) as count, city as city \n",
    "            from orders \n",
    "            join customers \n",
    "            where status=\"Cancelled\" \n",
    "            group by city \n",
    "            order by count(city) desc''').fetchall()"
   ]
  },
  {
   "cell_type": "code",
   "execution_count": 48,
   "metadata": {},
   "outputs": [
    {
     "data": {
      "text/plain": [
       "[(7.625,)]"
      ]
     },
     "execution_count": 48,
     "metadata": {},
     "output_type": "execute_result"
    }
   ],
   "source": [
    "c.execute('''select avg(a.count) from (select count(city) as count, city as city \n",
    "            from orders \n",
    "            join customers \n",
    "            where status=\"Cancelled\" \n",
    "            group by city \n",
    "            order by count(city)) as a''').fetchall()"
   ]
  },
  {
   "cell_type": "code",
   "execution_count": null,
   "metadata": {},
   "outputs": [],
   "source": [
    "SELECT \n",
    "  AVG(`count`)\n",
    "FROM\n",
    "  (SELECT \n",
    "    COUNT(s_id) AS `count`\n",
    "  FROM\n",
    "    instructor,\n",
    "    advisor \n",
    "  WHERE instructor.ID = advisor.i_id \n",
    "    AND dept_name = 'CIS' \n",
    "  GROUP BY dept_name) nested ;"
   ]
  },
  {
   "cell_type": "code",
   "execution_count": null,
   "metadata": {},
   "outputs": [],
   "source": [
    "# Your code here"
   ]
  },
  {
   "cell_type": "markdown",
   "metadata": {},
   "source": [
    "## Level Up: Display the names of each product each employee has sold"
   ]
  },
  {
   "cell_type": "code",
   "execution_count": 52,
   "metadata": {},
   "outputs": [
    {
     "data": {
      "text/plain": [
       "[]"
      ]
     },
     "execution_count": 52,
     "metadata": {},
     "output_type": "execute_result"
    }
   ],
   "source": [
    "c.execute('''select products.productName from\n",
    "                products join orderdetails on orderdetails.productCode\n",
    "                join orders on orders.orderNumber\n",
    "                join customers on customers.customerNumber\n",
    "                join employees\n",
    "                ''').fetchall()"
   ]
  },
  {
   "cell_type": "markdown",
   "metadata": {},
   "source": [
    "## Level Up: Display the Number of Products each employee has sold"
   ]
  },
  {
   "cell_type": "code",
   "execution_count": null,
   "metadata": {},
   "outputs": [],
   "source": [
    "#Your code here"
   ]
  },
  {
   "cell_type": "markdown",
   "metadata": {},
   "source": [
    "## Summary"
   ]
  },
  {
   "cell_type": "markdown",
   "metadata": {},
   "source": [
    "Congrats! You now know how to use join statements, along with leveraging your foreign keys knowledge!"
   ]
  }
 ],
 "metadata": {
  "kernelspec": {
   "display_name": "Python 3",
   "language": "python",
   "name": "python3"
  },
  "language_info": {
   "codemirror_mode": {
    "name": "ipython",
    "version": 3
   },
   "file_extension": ".py",
   "mimetype": "text/x-python",
   "name": "python",
   "nbconvert_exporter": "python",
   "pygments_lexer": "ipython3",
   "version": "3.6.6"
  }
 },
 "nbformat": 4,
 "nbformat_minor": 2
}
